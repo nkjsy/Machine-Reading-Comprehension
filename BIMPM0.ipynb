{
 "cells": [
  {
   "cell_type": "markdown",
   "metadata": {},
   "source": [
    "## Import packages"
   ]
  },
  {
   "cell_type": "code",
   "execution_count": 1,
   "metadata": {},
   "outputs": [],
   "source": [
    "import numpy as np\n",
    "import pandas as pd\n",
    "import gc, random, math, time"
   ]
  },
  {
   "cell_type": "code",
   "execution_count": 2,
   "metadata": {},
   "outputs": [
    {
     "name": "stderr",
     "output_type": "stream",
     "text": [
      "Using TensorFlow backend.\n"
     ]
    }
   ],
   "source": [
    "from keras.preprocessing.text import Tokenizer, text_to_word_sequence\n",
    "from keras.preprocessing.sequence import pad_sequences\n",
    "from keras.layers import Dense, Input, Embedding, Dropout, Activation, SpatialDropout1D, BatchNormalization, RepeatVector, Lambda\n",
    "from keras.layers.merge import concatenate, multiply, dot, Concatenate\n",
    "from keras.layers import LSTM, GRU, CuDNNLSTM, CuDNNGRU\n",
    "from keras.layers import Bidirectional, GlobalMaxPooling1D, GlobalAveragePooling1D, TimeDistributed\n",
    "from keras.models import Model, Sequential\n",
    "from keras import optimizers, layers\n",
    "from keras.callbacks import ModelCheckpoint, EarlyStopping, ReduceLROnPlateau\n",
    "from keras.engine.topology import Layer\n",
    "from keras import backend as K\n",
    "from keras.preprocessing import sequence, text\n",
    "from keras import optimizers"
   ]
  },
  {
   "cell_type": "code",
   "execution_count": 3,
   "metadata": {},
   "outputs": [],
   "source": [
    "from sklearn.model_selection import KFold"
   ]
  },
  {
   "cell_type": "markdown",
   "metadata": {},
   "source": [
    "## Hyper parameter setting"
   ]
  },
  {
   "cell_type": "code",
   "execution_count": 4,
   "metadata": {},
   "outputs": [],
   "source": [
    "embed_size = 300 # how big is each word vector\n",
    "max_features = 120000 # how many unique words to use (i.e num rows in embedding vector)\n",
    "maxlen_p = 150 # max number of words in a context to use\n",
    "maxlen_q = 10 # max number of words in a question to use\n",
    "batch_size = 128\n",
    "num_rnn_units = 32\n",
    "num_hidden_units = 200\n",
    "drop_prob = 0.5\n",
    "max_norm = 5.0\n",
    "mp = 3\n",
    "features = 2"
   ]
  },
  {
   "cell_type": "markdown",
   "metadata": {},
   "source": [
    "## File path"
   ]
  },
  {
   "cell_type": "code",
   "execution_count": 5,
   "metadata": {},
   "outputs": [],
   "source": [
    "train_path = './data/train.tsv' # train set\n",
    "valid_path = './data/valid.tsv' # validation set\n",
    "test_path = './data/test.tsv' # test set\n",
    "embed_file = './sgns.target.word-ngram.1-2.dynwin5.thr10.neg5.dim300.iter5' # 预训练词向量\n",
    "fasttext_file = './cc.zh.300.vec' # 预训练词向量\n",
    "train_feature_path = './data/train_fea.npy' # train passage word feature\n",
    "valid_feature_path = './data/valid_fea.npy' # validation passage word feature\n",
    "test_feature_path = './data/test_fea.npy' # test passage word feature"
   ]
  },
  {
   "cell_type": "markdown",
   "metadata": {},
   "source": [
    "##  Read file"
   ]
  },
  {
   "cell_type": "code",
   "execution_count": 6,
   "metadata": {},
   "outputs": [
    {
     "name": "stdout",
     "output_type": "stream",
     "text": [
      "(750000, 5) (90000, 5) (29997, 4)\n",
      "   id                                            passage  \\\n",
      "0   1  孩子 是 父母 的 一面镜子   由于 儿童 的 世界观 尚未 形成   他们   模仿 带...   \n",
      "1   1  孩子 是 父母 的 一面镜子   由于 儿童 的 世界观 尚未 形成     的 模仿 带有...   \n",
      "2   1  孩子 是 父母   一面镜子   由于 儿童 的 世界观 尚未 形成   他们 的   带有...   \n",
      "3   2  目前   中国 很多 地方   学生 火车票 磁条 都 已经 升级 了   在 磁条 里 已...   \n",
      "4   2  目前       地方   学生 火车票 磁条 都 已经   了   在 磁条 里 已经 写...   \n",
      "\n",
      "                     query option  label  \n",
      "0   无法确定 你 的 孩子 是 保姆 带 大 的   无法确定      1  \n",
      "1      是 你 的 孩子 是 保姆 带 大 的      是      0  \n",
      "2     不是 你 的 孩子 是 保姆 带 大 的     不是      0  \n",
      "3  不能 不是 一个 区间 刷 学生证 能 有 票     不能      1  \n",
      "4   能 不是 一个 区间 刷 学生证 能 有 票      能      0  \n"
     ]
    }
   ],
   "source": [
    "train = pd.read_csv(train_path, sep='\\t', header=0)\n",
    "valid = pd.read_csv(valid_path, sep='\\t', header=0)\n",
    "test = pd.read_csv(test_path, sep='\\t', header=0)\n",
    "print (train.shape, valid.shape, test.shape)\n",
    "print (train.head())"
   ]
  },
  {
   "cell_type": "code",
   "execution_count": 7,
   "metadata": {},
   "outputs": [
    {
     "name": "stdout",
     "output_type": "stream",
     "text": [
      "(750000, 150, 2) (90000, 150, 2) (29997, 150, 2)\n"
     ]
    }
   ],
   "source": [
    "train_feature = np.load(train_feature_path)\n",
    "valid_feature = np.load(valid_feature_path)\n",
    "test_feature = np.load(test_feature_path)\n",
    "print (train_feature.shape, valid_feature.shape, test_feature.shape)"
   ]
  },
  {
   "cell_type": "markdown",
   "metadata": {},
   "source": [
    "## Buld up the text input pipeline"
   ]
  },
  {
   "cell_type": "markdown",
   "metadata": {},
   "source": [
    "####  Fit the tokenizer on train, valid and test set"
   ]
  },
  {
   "cell_type": "code",
   "execution_count": 8,
   "metadata": {},
   "outputs": [],
   "source": [
    "tokenizer = Tokenizer(num_words=max_features, lower=True) \n",
    "\n",
    "tokenizer.fit_on_texts(pd.concat([train['passage'], train['query'], valid['passage'], valid['query'], test['passage'], test['query']], ignore_index=True))"
   ]
  },
  {
   "cell_type": "code",
   "execution_count": 9,
   "metadata": {},
   "outputs": [
    {
     "name": "stdout",
     "output_type": "stream",
     "text": [
      "1739994 175296\n"
     ]
    }
   ],
   "source": [
    "print (tokenizer.document_count, len(tokenizer.word_counts))"
   ]
  },
  {
   "cell_type": "markdown",
   "metadata": {},
   "source": [
    "#### text to seq"
   ]
  },
  {
   "cell_type": "code",
   "execution_count": 10,
   "metadata": {},
   "outputs": [],
   "source": [
    "tra_p = tokenizer.texts_to_sequences(train['passage'])\n",
    "tra_q = tokenizer.texts_to_sequences(train['query'])\n",
    "val_p = tokenizer.texts_to_sequences(valid['passage'])\n",
    "val_q = tokenizer.texts_to_sequences(valid['query'])\n",
    "te_p = tokenizer.texts_to_sequences(test['passage'])\n",
    "te_q = tokenizer.texts_to_sequences(test['query'])"
   ]
  },
  {
   "cell_type": "markdown",
   "metadata": {},
   "source": [
    "#### pad seq to maxlen"
   ]
  },
  {
   "cell_type": "code",
   "execution_count": 11,
   "metadata": {},
   "outputs": [],
   "source": [
    "train_p = pad_sequences(tra_p, maxlen=maxlen_p)\n",
    "train_q = pad_sequences(tra_q, maxlen=maxlen_q, padding='post', truncating='post')\n",
    "valid_p = pad_sequences(val_p, maxlen=maxlen_p)\n",
    "valid_q = pad_sequences(val_q, maxlen=maxlen_q, padding='post', truncating='post')\n",
    "test_p = pad_sequences(te_p, maxlen=maxlen_p)\n",
    "test_q = pad_sequences(te_q, maxlen=maxlen_q, padding='post', truncating='post')"
   ]
  },
  {
   "cell_type": "code",
   "execution_count": 12,
   "metadata": {},
   "outputs": [
    {
     "name": "stdout",
     "output_type": "stream",
     "text": [
      "(750000, 150) (750000, 10) (90000, 150) (90000, 10) (29997, 150) (29997, 10)\n"
     ]
    }
   ],
   "source": [
    "print (train_p.shape, train_q.shape, valid_p.shape, valid_q.shape, test_p.shape, test_q.shape)"
   ]
  },
  {
   "cell_type": "markdown",
   "metadata": {},
   "source": [
    "#### label"
   ]
  },
  {
   "cell_type": "code",
   "execution_count": 13,
   "metadata": {},
   "outputs": [],
   "source": [
    "train_l = train['label']\n",
    "valid_l = valid['label']"
   ]
  },
  {
   "cell_type": "code",
   "execution_count": 14,
   "metadata": {},
   "outputs": [
    {
     "name": "stdout",
     "output_type": "stream",
     "text": [
      "(750000,) (90000,)\n"
     ]
    }
   ],
   "source": [
    "print (train_l.shape, valid_l.shape)"
   ]
  },
  {
   "cell_type": "markdown",
   "metadata": {},
   "source": [
    "## Prepare the pretrained word embedding"
   ]
  },
  {
   "cell_type": "code",
   "execution_count": 15,
   "metadata": {},
   "outputs": [],
   "source": [
    "def get_coefs(word,*arr): return word, np.asarray(arr, dtype='float32')\n",
    "embeddings_index = dict(get_coefs(*o.strip().split()) for o in open(embed_file, encoding='utf-8'))"
   ]
  },
  {
   "cell_type": "code",
   "execution_count": 16,
   "metadata": {},
   "outputs": [
    {
     "data": {
      "text/plain": [
       "(0.014820942, 0.26983637)"
      ]
     },
     "execution_count": 16,
     "metadata": {},
     "output_type": "execute_result"
    }
   ],
   "source": [
    "all_embs = np.hstack(embeddings_index.values())\n",
    "emb_mean,emb_std = all_embs.mean(), all_embs.std()\n",
    "emb_mean,emb_std"
   ]
  },
  {
   "cell_type": "code",
   "execution_count": 17,
   "metadata": {},
   "outputs": [],
   "source": [
    "word_index = tokenizer.word_index\n",
    "nb_words = min(max_features, len(word_index))\n",
    "embedding_matrix = np.random.normal(emb_mean, emb_std, (nb_words+1, embed_size))\n",
    "for word, i in word_index.items():\n",
    "    if i > max_features: break\n",
    "    embedding_vector = embeddings_index.get(word)\n",
    "    if embedding_vector is not None: embedding_matrix[i] = embedding_vector"
   ]
  },
  {
   "cell_type": "code",
   "execution_count": 18,
   "metadata": {},
   "outputs": [],
   "source": [
    "embedding_matrix = np.asarray(embedding_matrix, dtype='float32')"
   ]
  },
  {
   "cell_type": "code",
   "execution_count": 19,
   "metadata": {},
   "outputs": [],
   "source": [
    "fasttext_index = dict(get_coefs(*o.strip().split()) for o in open(fasttext_file, encoding='utf-8'))\n",
    "all_ft = np.hstack(fasttext_index.values())\n",
    "ft_mean,ft_std = all_ft.mean(), all_ft.std()\n",
    "fasttext_matrix = np.random.normal(ft_mean, ft_std, (nb_words+1, embed_size))\n",
    "for word, i in word_index.items():\n",
    "    if i > max_features: break\n",
    "    fasttext_vector = fasttext_index.get(word)\n",
    "    if fasttext_vector is not None: fasttext_matrix[i] = fasttext_vector\n",
    "fasttext_matrix = np.asarray(fasttext_matrix, dtype='float32')"
   ]
  },
  {
   "cell_type": "markdown",
   "metadata": {},
   "source": [
    "## Build the model"
   ]
  },
  {
   "cell_type": "code",
   "execution_count": 25,
   "metadata": {},
   "outputs": [],
   "source": [
    "K.clear_session()"
   ]
  },
  {
   "cell_type": "code",
   "execution_count": 26,
   "metadata": {},
   "outputs": [],
   "source": [
    "class MultiPerspective(Layer):\n",
    "    \"\"\"Multi-perspective Matching Layer. (cannot do max attentive matching with keras)\n",
    "    # Arguments\n",
    "        mp_dim: single forward/backward multi-perspective dimention\n",
    "    \"\"\"\n",
    "\n",
    "    def __init__(self, mp_dim, epsilon=1e-6, **kwargs):\n",
    "        self.mp_dim = mp_dim\n",
    "        self.epsilon = 1e-6\n",
    "        self.strategy = 3\n",
    "        super(MultiPerspective, self).__init__(**kwargs)\n",
    "\n",
    "    def build(self, input_shape):\n",
    "        if isinstance(input_shape, list):\n",
    "            input_shape = input_shape[0]\n",
    "        embedding_size = input_shape[-1] / 2\n",
    "        embedding_size = int(embedding_size)\n",
    "        # Create a trainable weight variable for this layer.\n",
    "        # input_shape is bidirectional RNN input shape\n",
    "        # kernel shape (mp_dim * 2 * self.strategy, embedding_size)\n",
    "        self.kernel = self.add_weight((int(self.mp_dim),\n",
    "                                       int(embedding_size * 2 * self.strategy)),\n",
    "                                       name='kernel',\n",
    "                                       initializer='glorot_uniform',\n",
    "                                       trainable=True)\n",
    "        self.kernel_full_fw = self.kernel[:, :embedding_size]\n",
    "        self.kernel_full_bw = self.kernel[:, embedding_size: embedding_size * 2]\n",
    "        self.kernel_attentive_fw = self.kernel[:, embedding_size * 2: embedding_size * 3]\n",
    "        self.kernel_attentive_bw = self.kernel[:, embedding_size * 3: embedding_size * 4]\n",
    "        self.kernel_max_pool_fw = self.kernel[:, embedding_size * 4: embedding_size * 5]\n",
    "        self.kernel_max_pool_bw = self.kernel[:, embedding_size * 5:]\n",
    "        self.built = True\n",
    "        super(MultiPerspective, self).build(input_shape)\n",
    "\n",
    "    def compute_output_shape(self, input_shape):\n",
    "        if isinstance(input_shape, list):\n",
    "            input_shape = input_shape[0]\n",
    "        return (input_shape[0], input_shape[1], self.mp_dim * 2 * self.strategy)\n",
    "\n",
    "    def get_config(self):\n",
    "        config = {'mp_dim': self.mp_dim,\n",
    "                  'epsilon': self.epsilon}\n",
    "        base_config = super(MultiPerspective, self).get_config()\n",
    "        return dict(list(base_config.items()) + list(config.items()))\n",
    "\n",
    "    def call(self, inputs):\n",
    "        # h1, h2: bidirectional LSTM hidden states, include forward and backward states\n",
    "        #         (batch_size, timesteps, embedding_size * 2)\n",
    "        h1 = inputs[0]\n",
    "        h2 = inputs[1]\n",
    "        embedding_size = K.int_shape(h1)[-1] // 2\n",
    "        h1_fw = h1[:, :, :embedding_size]\n",
    "        h1_bw = h1[:, :, embedding_size:]\n",
    "        h2_fw = h2[:, :, :embedding_size]\n",
    "        h2_bw = h2[:, :, embedding_size:]\n",
    "\n",
    "        # 4 matching strategy\n",
    "        list_matching = []\n",
    "\n",
    "        # full matching ops\n",
    "        matching_fw = self._full_matching(h1_fw, h2_fw, self.kernel_full_fw)\n",
    "        matching_bw = self._full_matching(h1_bw, h2_bw, self.kernel_full_bw)\n",
    "        list_matching.extend([matching_fw, matching_bw])\n",
    "\n",
    "        # cosine matrix\n",
    "        cosine_matrix_fw = self._cosine_matrix(h1_fw, h2_fw)\n",
    "        cosine_matrix_bw = self._cosine_matrix(h1_bw, h2_bw)\n",
    "\n",
    "        # attentive matching ops\n",
    "        matching_fw = self._attentive_matching(\n",
    "            h1_fw, h2_fw, cosine_matrix_fw, self.kernel_attentive_fw)\n",
    "        matching_bw = self._attentive_matching(\n",
    "            h1_bw, h2_bw, cosine_matrix_bw, self.kernel_attentive_bw)\n",
    "        list_matching.extend([matching_fw, matching_bw])\n",
    "\n",
    "        # max pooling matching ops\n",
    "        matching_fw = self._max_pooling_matching(h1_fw, h2_fw, self.kernel_max_pool_fw)\n",
    "        matching_bw = self._max_pooling_matching(h1_bw, h2_bw, self.kernel_max_pool_bw)\n",
    "        list_matching.extend([matching_fw, matching_bw])\n",
    "\n",
    "        return K.concatenate(list_matching, axis=-1)\n",
    "\n",
    "    def _cosine_matrix(self, x1, x2):\n",
    "        \"\"\"Cosine similarity matrix.\n",
    "        Calculate the cosine similarities between each forward (or backward)\n",
    "        contextual embedding h_i_p and every forward (or backward)\n",
    "        contextual embeddings of the other sentence\n",
    "        # Arguments\n",
    "            x1: (batch_size, x1_timesteps, embedding_size)\n",
    "            x2: (batch_size, x2_timesteps, embedding_size)\n",
    "        # Output shape\n",
    "            (batch_size, x1_timesteps, x2_timesteps)\n",
    "        \"\"\"\n",
    "        s = dot([x1, K.permute_dimensions(x2, (0,2,1))], axes=(2,1), normalize=True) # [t, j]\n",
    "        return s\n",
    "\n",
    "    def _mean_attentive_vectors(self, x2, cosine_matrix):\n",
    "        \"\"\"Mean attentive vectors.\n",
    "        Calculate mean attentive vector for the entire sentence by weighted\n",
    "        summing all the contextual embeddings of the entire sentence\n",
    "        # Arguments\n",
    "            x2: sequence vectors, (batch_size, x2_timesteps, embedding_size)\n",
    "            cosine_matrix: cosine similarities matrix of x1 and x2,\n",
    "                           (batch_size, x1_timesteps, x2_timesteps)\n",
    "        # Output shape\n",
    "            (batch_size, x1_timesteps, embedding_size)\n",
    "        \"\"\"\n",
    "        attentive_vector = K.batch_dot(K.softmax(cosine_matrix, axis=-1), x2, axes=[2,1]) # [t, d]\n",
    "        return attentive_vector\n",
    "\n",
    "    def _time_distributed_multiply(self, x, w):\n",
    "        \"\"\"Element-wise multiply vector and weights.\n",
    "        # Arguments\n",
    "            x: sequence of hidden states, (batch_size, ?, embedding_size)\n",
    "            w: weights of one matching strategy of one direction,\n",
    "               (mp_dim, embedding_size)\n",
    "        # Output shape\n",
    "            (batch_size, ?, mp_dim, embedding_size)\n",
    "        \"\"\"\n",
    "        if K.ndim(x) == 3:\n",
    "            b = K.shape(x)[0]\n",
    "            t = K.shape(x)[1]\n",
    "            x = K.tile(K.expand_dims(x, axis=2), [1,1,self.mp_dim,1])\n",
    "            w = K.expand_dims(w, axis=0)\n",
    "            w = K.expand_dims(w, axis=0)\n",
    "            w = K.tile(w, [b,t,1,1])\n",
    "            m = multiply([x,w])\n",
    "        else:\n",
    "            b = K.shape(x)[0]\n",
    "            x = K.tile(K.expand_dims(x, axis=1), [1,self.mp_dim,1])\n",
    "            w = K.expand_dims(w, axis=0)\n",
    "            w = K.tile(w, [b,1,1])\n",
    "            m = multiply([x,w])\n",
    "        return m\n",
    "\n",
    "    def _full_matching(self, h1, h2, w):\n",
    "        \"\"\"Full matching operation.\n",
    "        # Arguments\n",
    "            h1: (batch_size, h1_timesteps, embedding_size)\n",
    "            h2: (batch_size, h2_timesteps, embedding_size)\n",
    "            w: weights of one direction, (mp_dim, embedding_size)\n",
    "        # Output shape\n",
    "            (batch_size, h1_timesteps, mp_dim)\n",
    "        \"\"\"\n",
    "        # h2 forward last step hidden vector, (batch_size, embedding_size)\n",
    "        h2_last_state = h2[:, -1, :]\n",
    "        # h1 * weights, (batch_size, h1_timesteps, mp_dim, embedding_size)\n",
    "        h1 = self._time_distributed_multiply(h1, w)\n",
    "        # h2_last_state * weights, (batch_size, mp_dim, embedding_size)\n",
    "        h2 = self._time_distributed_multiply(h2_last_state, w)\n",
    "        # reshape to (batch_size, 1, mp_dim, embedding_size)\n",
    "        h2 = K.expand_dims(h2, axis=1)\n",
    "        h2 = K.tile(h2, [1, K.shape(h1)[1], 1, 1])\n",
    "        # matching vector, (batch_size, h1_timesteps, mp_dim)\n",
    "        h1 = K.l2_normalize(h1, axis=-1)\n",
    "        h2 = K.l2_normalize(h2, axis=-1)\n",
    "        matching = K.sum(multiply([h1, h2]), axis=-1)\n",
    "        return matching\n",
    "\n",
    "    def _max_pooling_matching(self, h1, h2, w):\n",
    "        \"\"\"Max pooling matching operation.\n",
    "        # Arguments\n",
    "            h1: (batch_size, h1_timesteps, embedding_size)\n",
    "            h2: (batch_size, h2_timesteps, embedding_size)\n",
    "            w: weights of one direction, (mp_dim, embedding_size)\n",
    "        # Output shape\n",
    "            (batch_size, h1_timesteps, mp_dim)\n",
    "        \"\"\"\n",
    "        t1 = K.shape(h1)[1]\n",
    "        t2 = K.shape(h2)[1]\n",
    "        # h1 * weights, (batch_size, h1_timesteps, mp_dim, embedding_size)\n",
    "        h1 = self._time_distributed_multiply(h1, w)\n",
    "        # h2 * weights, (batch_size, h2_timesteps, mp_dim, embedding_size)\n",
    "        h2 = self._time_distributed_multiply(h2, w)\n",
    "        # reshape h1 to (batch_size, h1_timesteps, h2_timesteps, mp_dim, embedding_size)\n",
    "        h1 = K.expand_dims(h1, axis=2)\n",
    "        h1 = K.tile(h1, [1, 1, t2, 1, 1])\n",
    "        h1 = K.l2_normalize(h1, axis=-1)\n",
    "        # reshape v1 to (batch_size, h1_timesteps, h2_timesteps, mp_dim, embedding_size)\n",
    "        h2 = K.expand_dims(h2, axis=1)\n",
    "        h2 = K.tile(h2, [1, t1, 1, 1, 1])\n",
    "        h2 = K.l2_normalize(h2, axis=-1)\n",
    "        # cosine similarity, (batch_size, h1_timesteps, h2_timesteps, mp_dim)\n",
    "        cos = K.sum(multiply([h1, h2]), axis=-1)\n",
    "        # (batch_size, h1_timesteps, mp_dim)\n",
    "        matching = K.max(cos, axis=2)\n",
    "        return matching\n",
    "\n",
    "    def _attentive_matching(self, h1, h2, cosine_matrix, w):\n",
    "        \"\"\"Attentive matching operation.\n",
    "        # Arguments\n",
    "            h1: (batch_size, h1_timesteps, embedding_size)\n",
    "            h2: (batch_size, h2_timesteps, embedding_size)\n",
    "            cosine_matrix: weights of hidden state h2,\n",
    "                          (batch_size, h1_timesteps, h2_timesteps)\n",
    "            w: weights of one direction, (mp_dim, embedding_size)\n",
    "        # Output shape\n",
    "            (batch_size, h1_timesteps, mp_dim)\n",
    "        \"\"\"\n",
    "        # h1 * weights, (batch_size, h1_timesteps, mp_dim, embedding_size)\n",
    "        h1 = self._time_distributed_multiply(h1, w)\n",
    "        # attentive vector (batch_size, h1_timesteps, embedding_size)\n",
    "        attentive_vec = self._mean_attentive_vectors(h2, cosine_matrix)\n",
    "        # attentive_vec * weights, (batch_size, h1_timesteps, mp_dim, embedding_size)\n",
    "        attentive_vec = self._time_distributed_multiply(attentive_vec, w)\n",
    "        # matching vector, (batch_size, h1_timesteps, mp_dim)\n",
    "        h1 = K.l2_normalize(h1, axis=-1)\n",
    "        attentive_vec = K.l2_normalize(attentive_vec, axis=-1)\n",
    "        matching = K.sum(multiply([h1, attentive_vec]), axis=-1)\n",
    "        return matching"
   ]
  },
  {
   "cell_type": "code",
   "execution_count": 27,
   "metadata": {},
   "outputs": [],
   "source": [
    "def cos_sim (x):\n",
    "    p = x[0] # [t, 2d]\n",
    "    q = x[1] # [j, 2d]\n",
    "    s = dot([p, K.permute_dimensions(q, (0,2,1))], axes=(2,1), normalize=True) # [t, j] cosine simlilarity\n",
    "    max_sim = K.max(s, axis=-1, keepdims=True) # [t, 1]\n",
    "    return max_sim"
   ]
  },
  {
   "cell_type": "code",
   "execution_count": 30,
   "metadata": {},
   "outputs": [],
   "source": [
    "def single_model():\n",
    "    p = Input(shape=(maxlen_p,))\n",
    "    q = Input(shape=(maxlen_q,))\n",
    "    p_fea = Input(shape=(maxlen_p, features)) # passage word feature \n",
    "    \n",
    "    # Embedding layer\n",
    "    embed = Embedding(nb_words+1, embed_size, weights=[embedding_matrix], trainable=True)\n",
    "    ft = Embedding(nb_words+1, embed_size, weights=[fasttext_matrix], trainable=True)\n",
    "    pem = embed(p) # word embedding\n",
    "    pft = ft(p)\n",
    "    pe = Concatenate()([pem, pft])\n",
    "    qem = embed(q)\n",
    "    qft = ft(q)\n",
    "    qe = Concatenate()([qem, qft])\n",
    "    \n",
    "    p_cos_e = Lambda(cos_sim)([pem, qem])\n",
    "    p_cos_f = Lambda(cos_sim)([pft, qft])\n",
    "    pe = SpatialDropout1D(0.2)(pe)\n",
    "    qe = SpatialDropout1D(0.2)(qe)\n",
    "    pf = Concatenate()([pe, p_fea, p_cos_e, p_cos_f]) # passage feature vec = word embedding + (exact match + option match + cos sim)\n",
    "    \n",
    "    # Contextual embedding layer\n",
    "    h = Bidirectional(CuDNNLSTM(num_rnn_units, return_sequences=True))(pf) # [t, 2d]\n",
    "    u = Bidirectional(CuDNNLSTM(num_rnn_units, return_sequences=True))(qe) # [j,2d]\n",
    "\n",
    "    # Multi perspective matching layer\n",
    "    match = MultiPerspective(mp)\n",
    "    pm = match([h,u])\n",
    "    qm = match([u,h])\n",
    "    \n",
    "    # Aggregation layer\n",
    "    pa, phf, pcf, phb, pcb = Bidirectional(CuDNNLSTM(num_rnn_units, return_sequences=True, return_state=True))(pm) # [t, 2d], d, d, d, d\n",
    "    pam = GlobalMaxPooling1D()(pa) # [2d]\n",
    "    paa = GlobalAveragePooling1D()(pa) # [2d]\n",
    "    pc = Concatenate()([pam,paa,phf,phb])\n",
    "    \n",
    "    qa, qhf, qcf, qhb, qcb = Bidirectional(CuDNNLSTM(num_rnn_units, return_sequences=True, return_state=True))(qm) # [j, 2d], d, d, d, d\n",
    "    qam = GlobalMaxPooling1D()(qa) # [2d]\n",
    "    qaa = GlobalAveragePooling1D()(qa) # [2d]\n",
    "    qc = Concatenate()([qam,qaa,qhf,qhb])\n",
    "\n",
    "    # Output layer\n",
    "    conc = Concatenate()([pc, qc]) # [8d]\n",
    "    x = BatchNormalization()(conc)\n",
    "    x = Dense(num_hidden_units, activation='relu')(x)\n",
    "    x = Dropout(drop_prob)(x)\n",
    "    x = BatchNormalization()(x)\n",
    "    #x = Dense(num_hidden_units, activation='relu')(x)\n",
    "    #x = Dropout(drop_prob)(x)\n",
    "    #x = BatchNormalization()(x)\n",
    "\n",
    "    x = Dense(1, activation='sigmoid')(x)\n",
    "    model = Model(inputs=[p, q, p_fea], outputs=x)\n",
    "    #print (model.summary())\n",
    "    return model"
   ]
  },
  {
   "cell_type": "markdown",
   "metadata": {},
   "source": [
    "## Train the model"
   ]
  },
  {
   "cell_type": "code",
   "execution_count": 31,
   "metadata": {},
   "outputs": [],
   "source": [
    "model = single_model()\n",
    "model.load_weights('./model/my2.h5')"
   ]
  },
  {
   "cell_type": "code",
   "execution_count": 32,
   "metadata": {},
   "outputs": [
    {
     "name": "stdout",
     "output_type": "stream",
     "text": [
      "Train on 750000 samples, validate on 90000 samples\n",
      "Epoch 1/3\n",
      "750000/750000 [==============================] - 1437s 2ms/step - loss: 0.3884 - binary_accuracy: 0.8233 - val_loss: 0.4063 - val_binary_accuracy: 0.8138\n",
      "Epoch 2/3\n",
      "750000/750000 [==============================] - 1435s 2ms/step - loss: 0.3384 - binary_accuracy: 0.8510 - val_loss: 0.4217 - val_binary_accuracy: 0.8118\n"
     ]
    }
   ],
   "source": [
    "adam = optimizers.Adam(lr=0.0002, clipnorm=max_norm)\n",
    "model.compile(loss='binary_crossentropy', optimizer=adam, metrics=['binary_accuracy'])\n",
    "    \n",
    "# train the model\n",
    "cp = ModelCheckpoint(filepath='./model/my2.h5', monitor='val_binary_accuracy', save_best_only=True, save_weights_only=True)\n",
    "es = EarlyStopping(patience=0,  monitor='val_binary_accuracy')\n",
    "#rp = ReduceLROnPlateau(patience = 1,  monitor='val_loss')\n",
    "hist = model.fit(\n",
    "    [train_p, train_q, train_feature], \n",
    "    train_l,\n",
    "    batch_size = batch_size,\n",
    "    epochs = 3,\n",
    "    shuffle = True,\n",
    "    validation_data = ([valid_p, valid_q, valid_feature], valid_l), \n",
    "    callbacks=[cp, es])"
   ]
  },
  {
   "cell_type": "code",
   "execution_count": 33,
   "metadata": {},
   "outputs": [
    {
     "name": "stdout",
     "output_type": "stream",
     "text": [
      "{'val_loss': [0.40633796172671849, 0.42172297743161519], 'val_binary_accuracy': [0.81378888888888889, 0.81178888888888889], 'loss': [0.38839228627586364, 0.33835806921513878], 'binary_accuracy': [0.82334533333333337, 0.85099866666539514]}\n"
     ]
    },
    {
     "data": {
      "text/plain": [
       "[<matplotlib.lines.Line2D at 0x1de06da35f8>]"
      ]
     },
     "execution_count": 33,
     "metadata": {},
     "output_type": "execute_result"
    },
    {
     "data": {
      "image/png": "[encoded data removed]",
      "text/plain": [
       "<Figure size 432x288 with 1 Axes>"
      ]
     },
     "metadata": {},
     "output_type": "display_data"
    }
   ],
   "source": [
    "print (hist.history)\n",
    "from matplotlib import pyplot as plt\n",
    "%matplotlib inline\n",
    "plt.figure(1)\n",
    "plt.plot (hist.history['binary_accuracy'])\n",
    "plt.plot (hist.history['val_binary_accuracy'])"
   ]
  },
  {
   "cell_type": "markdown",
   "metadata": {},
   "source": [
    "## load the best weight"
   ]
  },
  {
   "cell_type": "code",
   "execution_count": 34,
   "metadata": {},
   "outputs": [],
   "source": [
    "model.load_weights('./model/my2.h5')"
   ]
  },
  {
   "cell_type": "markdown",
   "metadata": {},
   "source": [
    "## predict the test data"
   ]
  },
  {
   "cell_type": "code",
   "execution_count": 38,
   "metadata": {},
   "outputs": [],
   "source": [
    "test_pred = model.predict([test_p, test_q, test_feature], batch_size=batch_size*2)"
   ]
  },
  {
   "cell_type": "code",
   "execution_count": 39,
   "metadata": {},
   "outputs": [
    {
     "name": "stdout",
     "output_type": "stream",
     "text": [
      "(29997,)\n"
     ]
    }
   ],
   "source": [
    "test_pred = np.squeeze(test_pred)\n",
    "print(test_pred.shape)"
   ]
  },
  {
   "cell_type": "markdown",
   "metadata": {},
   "source": [
    "## Write the array into csv file"
   ]
  },
  {
   "cell_type": "code",
   "execution_count": 40,
   "metadata": {},
   "outputs": [],
   "source": [
    "res = pd.DataFrame({'id':test['id'], 'passage':test['passage'], 'query':test['query'], 'option':test['option'], 'label':test_pred})\n",
    "res.to_csv('./result/test2_long.csv', index=False, encoding='utf-8_sig')"
   ]
  },
  {
   "cell_type": "code",
   "execution_count": null,
   "metadata": {},
   "outputs": [],
   "source": []
  }
 ],
 "metadata": {
  "kernelspec": {
   "display_name": "Python 3",
   "language": "python",
   "name": "python3"
  },
  "language_info": {
   "codemirror_mode": {
    "name": "ipython",
    "version": 3
   },
   "file_extension": ".py",
   "mimetype": "text/x-python",
   "name": "python",
   "nbconvert_exporter": "python",
   "pygments_lexer": "ipython3",
   "version": "3.6.5"
  }
 },
 "nbformat": 4,
 "nbformat_minor": 2
}
