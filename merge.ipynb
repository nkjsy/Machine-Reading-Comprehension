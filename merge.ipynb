{
 "cells": [
  {
   "cell_type": "markdown",
   "metadata": {},
   "source": [
    "## Import packages"
   ]
  },
  {
   "cell_type": "code",
   "execution_count": 7,
   "metadata": {},
   "outputs": [],
   "source": [
    "import numpy as np\n",
    "import pandas as pd"
   ]
  },
  {
   "cell_type": "markdown",
   "metadata": {},
   "source": [
    "##  Read file"
   ]
  },
  {
   "cell_type": "code",
   "execution_count": 9,
   "metadata": {},
   "outputs": [],
   "source": [
    "#file_list = range(6)\n",
    "file_list = [1,3,4,5,6]"
   ]
  },
  {
   "cell_type": "code",
   "execution_count": 11,
   "metadata": {},
   "outputs": [
    {
     "name": "stdout",
     "output_type": "stream",
     "text": [
      "(29997,)\n"
     ]
    }
   ],
   "source": [
    "m = pd.Series(np.zeros((29997,)))\n",
    "for f in file_list:\n",
    "    test_long = pd.read_csv('./result/test%u_long.csv'%(f), header=0)\n",
    "    ind = test_long['id']\n",
    "    opt = test_long['option']\n",
    "    m += test_long['label']\n",
    "print (m.shape)\n",
    "df = pd.DataFrame({'id':ind, 'option':opt, 'merge':m})"
   ]
  },
  {
   "cell_type": "markdown",
   "metadata": {},
   "source": [
    "## Decide the answer\n",
    "find the max output"
   ]
  },
  {
   "cell_type": "code",
   "execution_count": 12,
   "metadata": {},
   "outputs": [],
   "source": [
    "idx = df.groupby('id')['merge'].idxmax()\n",
    "answer = df['option'].iloc[idx]\n",
    "queryid = df['id'].iloc[idx]"
   ]
  },
  {
   "cell_type": "markdown",
   "metadata": {},
   "source": [
    "## write into the tsv file"
   ]
  },
  {
   "cell_type": "code",
   "execution_count": 13,
   "metadata": {},
   "outputs": [],
   "source": [
    "res = pd.DataFrame({'id':queryid, 'answer':answer})\n",
    "res.to_csv('./result/m6.txt', index=False, header=True, sep='\\t', encoding='utf-8_sig')"
   ]
  },
  {
   "cell_type": "markdown",
   "metadata": {
    "collapsed": true
   },
   "source": [
    "## 测试集test A 有两条有误！"
   ]
  },
  {
   "cell_type": "markdown",
   "metadata": {},
   "source": [
    "289730只有一个选项，无法确定。\n",
    "289334只有两个选项，不能or无法确定。选不能"
   ]
  },
  {
   "cell_type": "code",
   "execution_count": null,
   "metadata": {},
   "outputs": [],
   "source": []
  }
 ],
 "metadata": {
  "kernelspec": {
   "display_name": "Python 3",
   "language": "python",
   "name": "python3"
  },
  "language_info": {
   "codemirror_mode": {
    "name": "ipython",
    "version": 3
   },
   "file_extension": ".py",
   "mimetype": "text/x-python",
   "name": "python",
   "nbconvert_exporter": "python",
   "pygments_lexer": "ipython3",
   "version": "3.6.5"
  }
 },
 "nbformat": 4,
 "nbformat_minor": 2
}
