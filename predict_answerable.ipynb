{
 "cells": [
  {
   "cell_type": "markdown",
   "metadata": {},
   "source": [
    "## Import packages"
   ]
  },
  {
   "cell_type": "code",
   "execution_count": 7,
   "metadata": {
    "collapsed": true
   },
   "outputs": [],
   "source": [
    "import numpy as np\n",
    "import pandas as pd\n",
    "import math\n",
    "from tqdm import tqdm\n",
    "from sklearn.metrics import f1_score"
   ]
  },
  {
   "cell_type": "markdown",
   "metadata": {},
   "source": [
    "##  Read file"
   ]
  },
  {
   "cell_type": "code",
   "execution_count": 9,
   "metadata": {},
   "outputs": [
    {
     "data": {
      "text/html": [
       "<div>\n",
       "<style>\n",
       "    .dataframe thead tr:only-child th {\n",
       "        text-align: right;\n",
       "    }\n",
       "\n",
       "    .dataframe thead th {\n",
       "        text-align: left;\n",
       "    }\n",
       "\n",
       "    .dataframe tbody tr th {\n",
       "        vertical-align: top;\n",
       "    }\n",
       "</style>\n",
       "<table border=\"1\" class=\"dataframe\">\n",
       "  <thead>\n",
       "    <tr style=\"text-align: right;\">\n",
       "      <th></th>\n",
       "      <th>id</th>\n",
       "      <th>passage</th>\n",
       "      <th>query</th>\n",
       "      <th>option</th>\n",
       "      <th>label</th>\n",
       "    </tr>\n",
       "  </thead>\n",
       "  <tbody>\n",
       "    <tr>\n",
       "      <th>0</th>\n",
       "      <td>1</td>\n",
       "      <td>孩子 是 父母 的 一面镜子   由于 儿童 的 世界观 尚未 形成   他们 的 模仿 带...</td>\n",
       "      <td>你 的 孩子 无法确定 保姆 带 大 的</td>\n",
       "      <td>无法确定</td>\n",
       "      <td>0.183903</td>\n",
       "    </tr>\n",
       "    <tr>\n",
       "      <th>1</th>\n",
       "      <td>1</td>\n",
       "      <td>孩子 是 父母 的 一面镜子   由于 儿童 的 世界观 尚未 形成   他们 的 模仿 带...</td>\n",
       "      <td>你 的 孩子 是 保姆 带 大 的</td>\n",
       "      <td>是</td>\n",
       "      <td>0.180234</td>\n",
       "    </tr>\n",
       "    <tr>\n",
       "      <th>2</th>\n",
       "      <td>1</td>\n",
       "      <td>孩子 是 父母 的 一面镜子   由于 儿童 的 世界观 尚未 形成   他们 的 模仿 带...</td>\n",
       "      <td>你 的 孩子 不是 保姆 带 大 的</td>\n",
       "      <td>不是</td>\n",
       "      <td>0.283244</td>\n",
       "    </tr>\n",
       "    <tr>\n",
       "      <th>3</th>\n",
       "      <td>2</td>\n",
       "      <td>目前   中国 很多 地方   学生 火车票 磁条 都 已经 升级 了   在 磁条 里 已...</td>\n",
       "      <td>不是 一个 区间 刷 学生证 不能 有 票</td>\n",
       "      <td>不能</td>\n",
       "      <td>0.267337</td>\n",
       "    </tr>\n",
       "    <tr>\n",
       "      <th>4</th>\n",
       "      <td>2</td>\n",
       "      <td>目前   中国 很多 地方   学生 火车票 磁条 都 已经 升级 了   在 磁条 里 已...</td>\n",
       "      <td>不是 一个 区间 刷 学生证 能 有 票</td>\n",
       "      <td>能</td>\n",
       "      <td>0.077491</td>\n",
       "    </tr>\n",
       "    <tr>\n",
       "      <th>5</th>\n",
       "      <td>2</td>\n",
       "      <td>目前   中国 很多 地方   学生 火车票 磁条 都 已经 升级 了   在 磁条 里 已...</td>\n",
       "      <td>不是 一个 区间 刷 学生证 无法确定 有 票</td>\n",
       "      <td>无法确定</td>\n",
       "      <td>0.261431</td>\n",
       "    </tr>\n",
       "    <tr>\n",
       "      <th>6</th>\n",
       "      <td>3</td>\n",
       "      <td>引起 黑 便 的 原因 有 很多   不 一定 都 是 癌症 引起 的</td>\n",
       "      <td>拉 黑 便 一定 不是 胃癌</td>\n",
       "      <td>不是</td>\n",
       "      <td>0.016444</td>\n",
       "    </tr>\n",
       "    <tr>\n",
       "      <th>7</th>\n",
       "      <td>3</td>\n",
       "      <td>引起 黑 便 的 原因 有 很多   不 一定 都 是 癌症 引起 的</td>\n",
       "      <td>拉 黑 便 一定 是 胃癌</td>\n",
       "      <td>是</td>\n",
       "      <td>0.014677</td>\n",
       "    </tr>\n",
       "    <tr>\n",
       "      <th>8</th>\n",
       "      <td>3</td>\n",
       "      <td>引起 黑 便 的 原因 有 很多   不 一定 都 是 癌症 引起 的</td>\n",
       "      <td>拉 黑 便 一定 无法确定 胃癌</td>\n",
       "      <td>无法确定</td>\n",
       "      <td>0.441861</td>\n",
       "    </tr>\n",
       "    <tr>\n",
       "      <th>9</th>\n",
       "      <td>4</td>\n",
       "      <td>芝士 味 超级 香 超级 浓       根本 停不下来   好 次 好 次        ...</td>\n",
       "      <td>早上 空腹吃 芝士 威化 饼 无法确定 发胖</td>\n",
       "      <td>无法确定</td>\n",
       "      <td>0.111361</td>\n",
       "    </tr>\n",
       "    <tr>\n",
       "      <th>10</th>\n",
       "      <td>4</td>\n",
       "      <td>芝士 味 超级 香 超级 浓       根本 停不下来   好 次 好 次        ...</td>\n",
       "      <td>早上 空腹吃 芝士 威化 饼 会 发胖</td>\n",
       "      <td>会</td>\n",
       "      <td>0.464875</td>\n",
       "    </tr>\n",
       "    <tr>\n",
       "      <th>11</th>\n",
       "      <td>4</td>\n",
       "      <td>芝士 味 超级 香 超级 浓       根本 停不下来   好 次 好 次        ...</td>\n",
       "      <td>早上 空腹吃 芝士 威化 饼 不会 发胖</td>\n",
       "      <td>不会</td>\n",
       "      <td>0.618078</td>\n",
       "    </tr>\n",
       "  </tbody>\n",
       "</table>\n",
       "</div>"
      ],
      "text/plain": [
       "    id                                            passage  \\\n",
       "0    1  孩子 是 父母 的 一面镜子   由于 儿童 的 世界观 尚未 形成   他们 的 模仿 带...   \n",
       "1    1  孩子 是 父母 的 一面镜子   由于 儿童 的 世界观 尚未 形成   他们 的 模仿 带...   \n",
       "2    1  孩子 是 父母 的 一面镜子   由于 儿童 的 世界观 尚未 形成   他们 的 模仿 带...   \n",
       "3    2  目前   中国 很多 地方   学生 火车票 磁条 都 已经 升级 了   在 磁条 里 已...   \n",
       "4    2  目前   中国 很多 地方   学生 火车票 磁条 都 已经 升级 了   在 磁条 里 已...   \n",
       "5    2  目前   中国 很多 地方   学生 火车票 磁条 都 已经 升级 了   在 磁条 里 已...   \n",
       "6    3              引起 黑 便 的 原因 有 很多   不 一定 都 是 癌症 引起 的     \n",
       "7    3              引起 黑 便 的 原因 有 很多   不 一定 都 是 癌症 引起 的     \n",
       "8    3              引起 黑 便 的 原因 有 很多   不 一定 都 是 癌症 引起 的     \n",
       "9    4  芝士 味 超级 香 超级 浓       根本 停不下来   好 次 好 次        ...   \n",
       "10   4  芝士 味 超级 香 超级 浓       根本 停不下来   好 次 好 次        ...   \n",
       "11   4  芝士 味 超级 香 超级 浓       根本 停不下来   好 次 好 次        ...   \n",
       "\n",
       "                      query option     label  \n",
       "0      你 的 孩子 无法确定 保姆 带 大 的   无法确定  0.183903  \n",
       "1         你 的 孩子 是 保姆 带 大 的      是  0.180234  \n",
       "2        你 的 孩子 不是 保姆 带 大 的     不是  0.283244  \n",
       "3     不是 一个 区间 刷 学生证 不能 有 票     不能  0.267337  \n",
       "4      不是 一个 区间 刷 学生证 能 有 票      能  0.077491  \n",
       "5   不是 一个 区间 刷 学生证 无法确定 有 票   无法确定  0.261431  \n",
       "6            拉 黑 便 一定 不是 胃癌     不是  0.016444  \n",
       "7             拉 黑 便 一定 是 胃癌      是  0.014677  \n",
       "8          拉 黑 便 一定 无法确定 胃癌   无法确定  0.441861  \n",
       "9    早上 空腹吃 芝士 威化 饼 无法确定 发胖   无法确定  0.111361  \n",
       "10      早上 空腹吃 芝士 威化 饼 会 发胖      会  0.464875  \n",
       "11     早上 空腹吃 芝士 威化 饼 不会 发胖     不会  0.618078  "
      ]
     },
     "execution_count": 9,
     "metadata": {},
     "output_type": "execute_result"
    }
   ],
   "source": [
    "test_long = pd.read_csv('./result/valid8_long.csv', header=0)\n",
    "test_long.head(12)"
   ]
  },
  {
   "cell_type": "code",
   "execution_count": 10,
   "metadata": {},
   "outputs": [
    {
     "name": "stderr",
     "output_type": "stream",
     "text": [
      "100%|███████████████████████████████████████████████████████████████████████████| 30000/30000 [00:42<00:00, 706.87it/s]\n"
     ]
    },
    {
     "name": "stdout",
     "output_type": "stream",
     "text": [
      "(30000,) (30000,)\n"
     ]
    }
   ],
   "source": [
    "y_val = []\n",
    "y_pred = []\n",
    "for i in tqdm(range(0, test_long.shape[0], 3)):\n",
    "    if test_long.iloc[i]['option'] == '无法确定' or test_long.iloc[i]['option'] == '无法确认':\n",
    "        answerable = 0\n",
    "    else:\n",
    "        answerable = 1\n",
    "    y_val.append(answerable)\n",
    "    a = 0\n",
    "    na = 0\n",
    "    for j in range(3):\n",
    "        if test_long.iloc[i+j]['option'] == '无法确定' or test_long.iloc[i+j]['option'] == '无法确认':\n",
    "            na += test_long.iloc[i+j]['label']\n",
    "        else:\n",
    "            a += test_long.iloc[i+j]['label']\n",
    "    a = math.exp(a) / (math.exp(a) + math.exp(na))\n",
    "    y_pred.append(a)\n",
    "y_val = np.asarray(y_val)\n",
    "y_pred = np.asarray(y_pred)\n",
    "print (y_val.shape, y_pred.shape)"
   ]
  },
  {
   "cell_type": "code",
   "execution_count": 5,
   "metadata": {},
   "outputs": [
    {
     "name": "stdout",
     "output_type": "stream",
     "text": [
      "[1 1 1 0 1 1 1 1 1 1 1 1 1 1 1 1 1 1 0 1]\n",
      "[0.71427163 0.70826292 0.63027645 0.7074739  0.68583635 0.63256332\n",
      " 0.63862965 0.7123808  0.49919993 0.61695054 0.6517891  0.73818933\n",
      " 0.7025246  0.65713907 0.73446497 0.69548319 0.66330498 0.71672495\n",
      " 0.63154995 0.73135233]\n"
     ]
    }
   ],
   "source": [
    "print (y_val[:20])\n",
    "print (y_pred[:20])"
   ]
  },
  {
   "cell_type": "code",
   "execution_count": 11,
   "metadata": {},
   "outputs": [
    {
     "name": "stdout",
     "output_type": "stream",
     "text": [
      "F1 score at threshold 0.1 is 0.9486595409146661\n",
      "F1 score at threshold 0.11 is 0.9486595409146661\n",
      "F1 score at threshold 0.12 is 0.9486595409146661\n",
      "F1 score at threshold 0.13 is 0.9486595409146661\n",
      "F1 score at threshold 0.14 is 0.9486595409146661\n",
      "F1 score at threshold 0.15 is 0.9486595409146661\n",
      "F1 score at threshold 0.16 is 0.9486595409146661\n",
      "F1 score at threshold 0.17 is 0.9486595409146661\n",
      "F1 score at threshold 0.18 is 0.9486595409146661\n",
      "F1 score at threshold 0.19 is 0.9486595409146661\n",
      "F1 score at threshold 0.2 is 0.9486595409146661\n",
      "F1 score at threshold 0.21 is 0.9486595409146661\n",
      "F1 score at threshold 0.22 is 0.9486595409146661\n",
      "F1 score at threshold 0.23 is 0.9486595409146661\n",
      "F1 score at threshold 0.24 is 0.9486595409146661\n",
      "F1 score at threshold 0.25 is 0.9486595409146661\n",
      "F1 score at threshold 0.26 is 0.9486595409146661\n",
      "F1 score at threshold 0.27 is 0.9486595409146661\n",
      "F1 score at threshold 0.28 is 0.9487426618768071\n",
      "F1 score at threshold 0.29 is 0.948861345348083\n",
      "F1 score at threshold 0.3 is 0.9490039281705948\n",
      "F1 score at threshold 0.31 is 0.9491632459741081\n",
      "F1 score at threshold 0.32 is 0.9494208494208494\n",
      "F1 score at threshold 0.33 is 0.949581160107476\n",
      "F1 score at threshold 0.34 is 0.9496450910113148\n",
      "F1 score at threshold 0.35 is 0.9498901485192021\n",
      "F1 score at threshold 0.36 is 0.9500492472210496\n",
      "F1 score at threshold 0.37 is 0.9502772155240694\n",
      "F1 score at threshold 0.38 is 0.9504095833700343\n",
      "F1 score at threshold 0.39 is 0.9506029193991962\n",
      "F1 score at threshold 0.4 is 0.9508133093398257\n",
      "F1 score at threshold 0.41 is 0.9509533898305086\n",
      "F1 score at threshold 0.42 is 0.9509824710206389\n",
      "F1 score at threshold 0.43 is 0.9512022630834512\n",
      "F1 score at threshold 0.44 is 0.9513848332006016\n",
      "F1 score at threshold 0.45 is 0.9516754975102338\n",
      "F1 score at threshold 0.46 is 0.9518536265062378\n",
      "F1 score at threshold 0.47 is 0.9516398393916783\n",
      "F1 score at threshold 0.48 is 0.9513813530677957\n",
      "F1 score at threshold 0.49 is 0.9512238571988456\n",
      "F1 score at threshold 0.5 is 0.950967097280708\n",
      "F1 score at threshold 0.51 is 0.9505810834972287\n",
      "F1 score at threshold 0.52 is 0.9500053757660468\n",
      "F1 score at threshold 0.53 is 0.9490058017351319\n",
      "F1 score at threshold 0.54 is 0.9480793127667622\n",
      "F1 score at threshold 0.55 is 0.9468893905191874\n",
      "F1 score at threshold 0.56 is 0.9454808911429089\n",
      "F1 score at threshold 0.57 is 0.9436397012049944\n",
      "F1 score at threshold 0.58 is 0.9415029577156211\n",
      "F1 score at threshold 0.59 is 0.9385868368919217\n",
      "F1 score at threshold 0.6 is 0.9351501853115263\n",
      "F1 score at threshold 0.61 is 0.9319214435398624\n",
      "F1 score at threshold 0.62 is 0.9279328044797014\n",
      "F1 score at threshold 0.63 is 0.922671981048713\n",
      "F1 score at threshold 0.64 is 0.9174673564917468\n",
      "F1 score at threshold 0.65 is 0.9096167474287028\n",
      "F1 score at threshold 0.66 is 0.9006914986344355\n",
      "F1 score at threshold 0.67 is 0.8888277596573271\n",
      "F1 score at threshold 0.68 is 0.8750573909571814\n",
      "F1 score at threshold 0.69 is 0.8556522447981414\n",
      "F1 score at threshold 0.7 is 0.8294153356638965\n",
      "F1 score at threshold 0.71 is 0.7917508746767499\n",
      "F1 score at threshold 0.72 is 0.7237532050541683\n",
      "F1 score at threshold 0.73 is 0.47968384726706004\n",
      "F1 score at threshold 0.74 is 0.12326400884405445\n",
      "F1 score at threshold 0.75 is 0.0795667716702651\n",
      "F1 score at threshold 0.76 is 0.05159899389148401\n",
      "F1 score at threshold 0.77 is 0.035239096544973356\n",
      "F1 score at threshold 0.78 is 0.023564602028160794\n",
      "F1 score at threshold 0.79 is 0.016260758102911558\n",
      "F1 score at threshold 0.8 is 0.011674008810572688\n",
      "F1 score at threshold 0.81 is 0.00918982502573151\n",
      "F1 score at threshold 0.82 is 0.006919651072913984\n",
      "F1 score at threshold 0.83 is 0.005892317890550195\n",
      "F1 score at threshold 0.84 is 0.004643449419568823\n",
      "F1 score at threshold 0.85 is 0.003613436082740312\n",
      "F1 score at threshold 0.86 is 0.0029507229271171437\n",
      "F1 score at threshold 0.87 is 0.0019927669938740863\n",
      "F1 score at threshold 0.88 is 0.0002954755309325946\n"
     ]
    },
    {
     "name": "stderr",
     "output_type": "stream",
     "text": [
      "C:\\ProgramData\\Anaconda3\\envs\\ml\\lib\\site-packages\\sklearn\\metrics\\classification.py:1143: UndefinedMetricWarning: F-score is ill-defined and being set to 0.0 due to no predicted samples.\n",
      "  'precision', 'predicted', average, warn_for)\n"
     ]
    },
    {
     "name": "stdout",
     "output_type": "stream",
     "text": [
      "F1 score at threshold 0.89 is 0.0\n"
     ]
    }
   ],
   "source": [
    "for thresh in np.arange(0.1, 0.9, 0.01):\n",
    "    thresh = np.round(thresh, 2)\n",
    "    print(\"F1 score at threshold {0} is {1}\".format(thresh, f1_score(y_val, (y_pred>thresh).astype(int))))"
   ]
  },
  {
   "cell_type": "markdown",
   "metadata": {},
   "source": [
    "## Decide the answer\n",
    "find the max output"
   ]
  },
  {
   "cell_type": "code",
   "execution_count": 4,
   "metadata": {
    "collapsed": true
   },
   "outputs": [],
   "source": [
    "idx = test_long.groupby('id')['label'].idxmax()\n",
    "answer = test_long['option'].iloc[idx]\n",
    "queryid = test_long['id'].iloc[idx]"
   ]
  },
  {
   "cell_type": "markdown",
   "metadata": {},
   "source": [
    "## write into the tsv file"
   ]
  },
  {
   "cell_type": "code",
   "execution_count": 5,
   "metadata": {
    "collapsed": true
   },
   "outputs": [],
   "source": [
    "res = pd.DataFrame({'id':queryid, 'answer':answer})\n",
    "res.to_csv('./result/test9.txt', index=False, columns=['id', 'answer'], header=True, sep='\\t', encoding='utf-8_sig')"
   ]
  },
  {
   "cell_type": "markdown",
   "metadata": {},
   "source": [
    "## 无法确定的占比"
   ]
  },
  {
   "cell_type": "code",
   "execution_count": 6,
   "metadata": {},
   "outputs": [
    {
     "name": "stdout",
     "output_type": "stream",
     "text": [
      "        0       1\n",
      "0      id  answer\n",
      "1  280001       能\n",
      "2  280002    无法确定\n",
      "3  280003    无法确定\n",
      "4  280004       能\n"
     ]
    },
    {
     "data": {
      "text/plain": [
       "0.0933906609339066"
      ]
     },
     "execution_count": 6,
     "metadata": {},
     "output_type": "execute_result"
    }
   ],
   "source": [
    "fr = pd.read_csv('./result/test9.txt', sep='\\t', header=None)\n",
    "print (fr.head())\n",
    "len(fr[fr[1]=='无法确定']) / fr.shape[0]"
   ]
  },
  {
   "cell_type": "markdown",
   "metadata": {
    "collapsed": true
   },
   "source": [
    "## 测试集test A 有两条有误！"
   ]
  },
  {
   "cell_type": "markdown",
   "metadata": {},
   "source": [
    "289730只有一个选项，无法确定。\n",
    "289334只有两个选项，不能or无法确定。选不能"
   ]
  },
  {
   "cell_type": "code",
   "execution_count": null,
   "metadata": {
    "collapsed": true
   },
   "outputs": [],
   "source": []
  }
 ],
 "metadata": {
  "kernelspec": {
   "display_name": "Python 3",
   "language": "python",
   "name": "python3"
  },
  "language_info": {
   "codemirror_mode": {
    "name": "ipython",
    "version": 3
   },
   "file_extension": ".py",
   "mimetype": "text/x-python",
   "name": "python",
   "nbconvert_exporter": "python",
   "pygments_lexer": "ipython3",
   "version": "3.6.2"
  }
 },
 "nbformat": 4,
 "nbformat_minor": 2
}
