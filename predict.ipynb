{
 "cells": [
  {
   "cell_type": "markdown",
   "metadata": {},
   "source": [
    "## Import packages"
   ]
  },
  {
   "cell_type": "code",
   "execution_count": 1,
   "metadata": {
    "collapsed": true
   },
   "outputs": [],
   "source": [
    "import numpy as np\n",
    "import pandas as pd"
   ]
  },
  {
   "cell_type": "markdown",
   "metadata": {},
   "source": [
    "##  Read file"
   ]
  },
  {
   "cell_type": "code",
   "execution_count": 4,
   "metadata": {},
   "outputs": [
    {
     "data": {
      "text/html": [
       "<div>\n",
       "<style>\n",
       "    .dataframe thead tr:only-child th {\n",
       "        text-align: right;\n",
       "    }\n",
       "\n",
       "    .dataframe thead th {\n",
       "        text-align: left;\n",
       "    }\n",
       "\n",
       "    .dataframe tbody tr th {\n",
       "        vertical-align: top;\n",
       "    }\n",
       "</style>\n",
       "<table border=\"1\" class=\"dataframe\">\n",
       "  <thead>\n",
       "    <tr style=\"text-align: right;\">\n",
       "      <th></th>\n",
       "      <th>id</th>\n",
       "      <th>passage</th>\n",
       "      <th>query</th>\n",
       "      <th>option</th>\n",
       "      <th>label</th>\n",
       "    </tr>\n",
       "  </thead>\n",
       "  <tbody>\n",
       "    <tr>\n",
       "      <th>0</th>\n",
       "      <td>250001</td>\n",
       "      <td>动漫 好看 的 H   爱 的 魔法   KEY 的 作品   喧嚣 学院   草莓 100...</td>\n",
       "      <td>有 好看 的 h</td>\n",
       "      <td>有</td>\n",
       "      <td>0.983067</td>\n",
       "    </tr>\n",
       "    <tr>\n",
       "      <th>1</th>\n",
       "      <td>250001</td>\n",
       "      <td>动漫 好看 的 H   爱 的 魔法   KEY 的 作品   喧嚣 学院   草莓 100...</td>\n",
       "      <td>没有 好看 的 h</td>\n",
       "      <td>没有</td>\n",
       "      <td>0.008508</td>\n",
       "    </tr>\n",
       "    <tr>\n",
       "      <th>2</th>\n",
       "      <td>250001</td>\n",
       "      <td>动漫 好看 的 H   爱 的 魔法   KEY 的 作品   喧嚣 学院   草莓 100...</td>\n",
       "      <td>无法确定 好看 的 h</td>\n",
       "      <td>无法确定</td>\n",
       "      <td>0.075353</td>\n",
       "    </tr>\n",
       "    <tr>\n",
       "      <th>3</th>\n",
       "      <td>250002</td>\n",
       "      <td>醋 泡 鸡蛋 确实 具有 一定 美 白嫩 化 肌肤   提高 皮肤 亮度   祛斑 的 效果...</td>\n",
       "      <td>醋 泡 鸡蛋 真 能 去 斑</td>\n",
       "      <td>能</td>\n",
       "      <td>0.658793</td>\n",
       "    </tr>\n",
       "    <tr>\n",
       "      <th>4</th>\n",
       "      <td>250002</td>\n",
       "      <td>醋 泡 鸡蛋 确实 具有 一定 美 白嫩 化 肌肤   提高 皮肤 亮度   祛斑 的 效果...</td>\n",
       "      <td>醋 泡 鸡蛋 真不 能 去 斑</td>\n",
       "      <td>不能</td>\n",
       "      <td>0.333747</td>\n",
       "    </tr>\n",
       "    <tr>\n",
       "      <th>5</th>\n",
       "      <td>250002</td>\n",
       "      <td>醋 泡 鸡蛋 确实 具有 一定 美 白嫩 化 肌肤   提高 皮肤 亮度   祛斑 的 效果...</td>\n",
       "      <td>醋 泡 鸡蛋 真 无法确定 去 斑</td>\n",
       "      <td>无法确定</td>\n",
       "      <td>0.105577</td>\n",
       "    </tr>\n",
       "    <tr>\n",
       "      <th>6</th>\n",
       "      <td>250003</td>\n",
       "      <td>人 有人 言   兽 有 兽 语   动物 是 不 会 听懂 人 说话 的</td>\n",
       "      <td>老鼠 听不懂 人话</td>\n",
       "      <td>听不懂</td>\n",
       "      <td>0.359549</td>\n",
       "    </tr>\n",
       "    <tr>\n",
       "      <th>7</th>\n",
       "      <td>250003</td>\n",
       "      <td>人 有人 言   兽 有 兽 语   动物 是 不 会 听懂 人 说话 的</td>\n",
       "      <td>老鼠 听得懂 人话</td>\n",
       "      <td>听得懂</td>\n",
       "      <td>0.349267</td>\n",
       "    </tr>\n",
       "    <tr>\n",
       "      <th>8</th>\n",
       "      <td>250003</td>\n",
       "      <td>人 有人 言   兽 有 兽 语   动物 是 不 会 听懂 人 说话 的</td>\n",
       "      <td>老鼠 无法确定 人话</td>\n",
       "      <td>无法确定</td>\n",
       "      <td>0.175413</td>\n",
       "    </tr>\n",
       "    <tr>\n",
       "      <th>9</th>\n",
       "      <td>250004</td>\n",
       "      <td>1   前期 投资 约 5 - 10 万元 设备 投资   柜台   门面 装修   电脑 ...</td>\n",
       "      <td>开 洗车 店 投资 无法确定</td>\n",
       "      <td>无法确定</td>\n",
       "      <td>0.173947</td>\n",
       "    </tr>\n",
       "    <tr>\n",
       "      <th>10</th>\n",
       "      <td>250004</td>\n",
       "      <td>1   前期 投资 约 5 - 10 万元 设备 投资   柜台   门面 装修   电脑 ...</td>\n",
       "      <td>开 洗车 店 投资 大</td>\n",
       "      <td>大</td>\n",
       "      <td>0.692511</td>\n",
       "    </tr>\n",
       "    <tr>\n",
       "      <th>11</th>\n",
       "      <td>250004</td>\n",
       "      <td>1   前期 投资 约 5 - 10 万元 设备 投资   柜台   门面 装修   电脑 ...</td>\n",
       "      <td>开 洗车 店 投资 不大</td>\n",
       "      <td>不大</td>\n",
       "      <td>0.364583</td>\n",
       "    </tr>\n",
       "  </tbody>\n",
       "</table>\n",
       "</div>"
      ],
      "text/plain": [
       "        id                                            passage  \\\n",
       "0   250001  动漫 好看 的 H   爱 的 魔法   KEY 的 作品   喧嚣 学院   草莓 100...   \n",
       "1   250001  动漫 好看 的 H   爱 的 魔法   KEY 的 作品   喧嚣 学院   草莓 100...   \n",
       "2   250001  动漫 好看 的 H   爱 的 魔法   KEY 的 作品   喧嚣 学院   草莓 100...   \n",
       "3   250002  醋 泡 鸡蛋 确实 具有 一定 美 白嫩 化 肌肤   提高 皮肤 亮度   祛斑 的 效果...   \n",
       "4   250002  醋 泡 鸡蛋 确实 具有 一定 美 白嫩 化 肌肤   提高 皮肤 亮度   祛斑 的 效果...   \n",
       "5   250002  醋 泡 鸡蛋 确实 具有 一定 美 白嫩 化 肌肤   提高 皮肤 亮度   祛斑 的 效果...   \n",
       "6   250003              人 有人 言   兽 有 兽 语   动物 是 不 会 听懂 人 说话 的   \n",
       "7   250003              人 有人 言   兽 有 兽 语   动物 是 不 会 听懂 人 说话 的   \n",
       "8   250003              人 有人 言   兽 有 兽 语   动物 是 不 会 听懂 人 说话 的   \n",
       "9   250004  1   前期 投资 约 5 - 10 万元 设备 投资   柜台   门面 装修   电脑 ...   \n",
       "10  250004  1   前期 投资 约 5 - 10 万元 设备 投资   柜台   门面 装修   电脑 ...   \n",
       "11  250004  1   前期 投资 约 5 - 10 万元 设备 投资   柜台   门面 装修   电脑 ...   \n",
       "\n",
       "                query option     label  \n",
       "0            有 好看 的 h      有  0.983067  \n",
       "1           没有 好看 的 h     没有  0.008508  \n",
       "2         无法确定 好看 的 h   无法确定  0.075353  \n",
       "3      醋 泡 鸡蛋 真 能 去 斑      能  0.658793  \n",
       "4     醋 泡 鸡蛋 真不 能 去 斑     不能  0.333747  \n",
       "5   醋 泡 鸡蛋 真 无法确定 去 斑   无法确定  0.105577  \n",
       "6           老鼠 听不懂 人话    听不懂  0.359549  \n",
       "7           老鼠 听得懂 人话    听得懂  0.349267  \n",
       "8          老鼠 无法确定 人话   无法确定  0.175413  \n",
       "9      开 洗车 店 投资 无法确定   无法确定  0.173947  \n",
       "10        开 洗车 店 投资 大      大  0.692511  \n",
       "11       开 洗车 店 投资 不大     不大  0.364583  "
      ]
     },
     "execution_count": 4,
     "metadata": {},
     "output_type": "execute_result"
    }
   ],
   "source": [
    "test_long = pd.read_csv('./result/valid6_long.csv', header=0)\n",
    "test_long.head(12)"
   ]
  },
  {
   "cell_type": "code",
   "execution_count": 3,
   "metadata": {},
   "outputs": [
    {
     "name": "stdout",
     "output_type": "stream",
     "text": [
      "0.489864826202\n"
     ]
    },
    {
     "name": "stderr",
     "output_type": "stream",
     "text": [
      "C:\\Users\\SJ\\AppData\\Local\\conda\\conda\\envs\\deep2\\lib\\site-packages\\ipykernel_launcher.py:1: SettingWithCopyWarning: \n",
      "A value is trying to be set on a copy of a slice from a DataFrame\n",
      "\n",
      "See the caveats in the documentation: http://pandas.pydata.org/pandas-docs/stable/indexing.html#indexing-view-versus-copy\n",
      "  \"\"\"Entry point for launching an IPython kernel.\n"
     ]
    }
   ],
   "source": [
    "test_long['label'][test_long['option']=='无法确定'] *= 2\n",
    "print (test_long['label'][2])"
   ]
  },
  {
   "cell_type": "markdown",
   "metadata": {},
   "source": [
    "## Decide the answer\n",
    "find the max output"
   ]
  },
  {
   "cell_type": "code",
   "execution_count": 4,
   "metadata": {
    "collapsed": true
   },
   "outputs": [],
   "source": [
    "idx = test_long.groupby('id')['label'].idxmax()\n",
    "answer = test_long['option'].iloc[idx]\n",
    "queryid = test_long['id'].iloc[idx]"
   ]
  },
  {
   "cell_type": "markdown",
   "metadata": {},
   "source": [
    "## write into the tsv file"
   ]
  },
  {
   "cell_type": "code",
   "execution_count": 5,
   "metadata": {
    "collapsed": true
   },
   "outputs": [],
   "source": [
    "res = pd.DataFrame({'id':queryid, 'answer':answer})\n",
    "res.to_csv('./result/test9.txt', index=False, columns=['id', 'answer'], header=True, sep='\\t', encoding='utf-8_sig')"
   ]
  },
  {
   "cell_type": "markdown",
   "metadata": {},
   "source": [
    "## 无法确定的占比"
   ]
  },
  {
   "cell_type": "code",
   "execution_count": 6,
   "metadata": {},
   "outputs": [
    {
     "name": "stdout",
     "output_type": "stream",
     "text": [
      "        0       1\n",
      "0      id  answer\n",
      "1  280001       能\n",
      "2  280002    无法确定\n",
      "3  280003    无法确定\n",
      "4  280004       能\n"
     ]
    },
    {
     "data": {
      "text/plain": [
       "0.0933906609339066"
      ]
     },
     "execution_count": 6,
     "metadata": {},
     "output_type": "execute_result"
    }
   ],
   "source": [
    "fr = pd.read_csv('./result/test9.txt', sep='\\t', header=None)\n",
    "print (fr.head())\n",
    "len(fr[fr[1]=='无法确定']) / fr.shape[0]"
   ]
  },
  {
   "cell_type": "markdown",
   "metadata": {
    "collapsed": true
   },
   "source": [
    "## 测试集test A 有两条有误！"
   ]
  },
  {
   "cell_type": "markdown",
   "metadata": {},
   "source": [
    "289730只有一个选项，无法确定。\n",
    "289334只有两个选项，不能or无法确定。选不能"
   ]
  },
  {
   "cell_type": "code",
   "execution_count": null,
   "metadata": {
    "collapsed": true
   },
   "outputs": [],
   "source": []
  }
 ],
 "metadata": {
  "kernelspec": {
   "display_name": "Python 3",
   "language": "python",
   "name": "python3"
  },
  "language_info": {
   "codemirror_mode": {
    "name": "ipython",
    "version": 3
   },
   "file_extension": ".py",
   "mimetype": "text/x-python",
   "name": "python",
   "nbconvert_exporter": "python",
   "pygments_lexer": "ipython3",
   "version": "3.6.2"
  }
 },
 "nbformat": 4,
 "nbformat_minor": 2
}
