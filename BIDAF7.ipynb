{
 "cells": [
  {
   "cell_type": "markdown",
   "metadata": {},
   "source": [
    "## Import packages"
   ]
  },
  {
   "cell_type": "code",
   "execution_count": 1,
   "metadata": {
    "collapsed": true
   },
   "outputs": [],
   "source": [
    "import numpy as np\n",
    "import pandas as pd\n",
    "import gc, random, math, time"
   ]
  },
  {
   "cell_type": "code",
   "execution_count": 2,
   "metadata": {},
   "outputs": [
    {
     "name": "stderr",
     "output_type": "stream",
     "text": [
      "Using TensorFlow backend.\n"
     ]
    }
   ],
   "source": [
    "from keras.preprocessing.text import Tokenizer, text_to_word_sequence\n",
    "from keras.preprocessing.sequence import pad_sequences\n",
    "from keras.models import Sequential, Model\n",
    "from keras.layers.core import Dense, Activation, Dropout, Reshape, Flatten, Lambda, Permute\n",
    "from keras.layers.embeddings import Embedding\n",
    "from keras.layers.normalization import BatchNormalization\n",
    "from keras.layers.merge import concatenate, Concatenate, multiply, Dot, dot\n",
    "from keras.layers import  GlobalMaxPooling1D, GlobalAveragePooling1D, Input, SpatialDropout1D, Bidirectional\n",
    "from keras.layers import CuDNNLSTM, CuDNNGRU, LSTM, GRU, Softmax\n",
    "from keras import backend as K\n",
    "from keras.engine.topology import Layer\n",
    "from keras.preprocessing import sequence, text\n",
    "from keras.callbacks import ModelCheckpoint, EarlyStopping, ReduceLROnPlateau\n",
    "from keras import optimizers\n",
    "from keras.utils.np_utils import to_categorical"
   ]
  },
  {
   "cell_type": "markdown",
   "metadata": {},
   "source": [
    "## Hyper parameter setting"
   ]
  },
  {
   "cell_type": "code",
   "execution_count": 3,
   "metadata": {
    "collapsed": true
   },
   "outputs": [],
   "source": [
    "embed_size = 300 # how big is each word vector\n",
    "max_features = 160000 # how many unique words to use (i.e num rows in embedding vector)\n",
    "maxlen_p = 150 # max number of words in a context to use\n",
    "maxlen_q = 15 # max number of words in a question to use\n",
    "batch_size = 256\n",
    "num_rnn_units = 64\n",
    "num_hidden_units = 300\n",
    "drop_prob = 0.5\n",
    "max_norm = 5.0\n",
    "features = 2"
   ]
  },
  {
   "cell_type": "markdown",
   "metadata": {},
   "source": [
    "## File path"
   ]
  },
  {
   "cell_type": "code",
   "execution_count": 4,
   "metadata": {},
   "outputs": [
    {
     "data": {
      "text/plain": [
       "\"\\ntrain_feature_p_path = './data/train_fea_p.npy' # train passage word feature\\nvalid_feature_p_path = './data/valid_fea_p.npy' # validation passage word feature\\ntest_feature_p_path = './data/test_fea_p.npy' # test passage word feature\\ntrain_feature_q_path = './data/train_fea_q.npy' # train passage word feature\\nvalid_feature_q_path = './data/valid_fea_q.npy' # validation passage word feature\\ntest_feature_q_path = './data/test_fea_q.npy' # test passage word feature\\n\""
      ]
     },
     "execution_count": 4,
     "metadata": {},
     "output_type": "execute_result"
    }
   ],
   "source": [
    "train_path = './data/train1.tsv' # train set\n",
    "valid_path = './data/valid1.tsv' # validation set\n",
    "test_path = './data/test1.tsv' # test set\n",
    "#embed_file = './sgns.target.word-ngram.1-2.dynwin5.thr10.neg5.dim300.iter5' # 预训练词向量\n",
    "fasttext_file = './cc.zh.300.vec' # 预训练词向量\n",
    "'''\n",
    "train_feature_p_path = './data/train_fea_p.npy' # train passage word feature\n",
    "valid_feature_p_path = './data/valid_fea_p.npy' # validation passage word feature\n",
    "test_feature_p_path = './data/test_fea_p.npy' # test passage word feature\n",
    "train_feature_q_path = './data/train_fea_q.npy' # train passage word feature\n",
    "valid_feature_q_path = './data/valid_fea_q.npy' # validation passage word feature\n",
    "test_feature_q_path = './data/test_fea_q.npy' # test passage word feature\n",
    "'''"
   ]
  },
  {
   "cell_type": "markdown",
   "metadata": {},
   "source": [
    "##  Read file"
   ]
  },
  {
   "cell_type": "code",
   "execution_count": 5,
   "metadata": {},
   "outputs": [
    {
     "name": "stdout",
     "output_type": "stream",
     "text": [
      "(250000, 6) (30000, 6) (10000, 5)\n",
      "   id                                            passage  \\\n",
      "0   1  孩子 是 父母 的 一面镜子   由于 儿童 的 世界观 尚未 形成   他们 的 模仿 带...   \n",
      "1   2  目前   中国 很多 地方   学生 火车票 磁条 都 已经 升级 了   在 磁条 里 已...   \n",
      "2   3               引起 黑 便 的 原因 有 很多   不一 定都 是 癌症 引起 的     \n",
      "3   4  芝士 味 超级 香 超级 浓       根本 停不下来   好 次 好 次   • ؔ ʶ...   \n",
      "4   5  林 贝 儿 XO 认为   新政 的 实施 将 有效 地 整合 中国 的 奶粉 市场   那...   \n",
      "\n",
      "                       a0                       a1                    a2  \\\n",
      "0       的 孩子 无法确定 保姆 带大           你 的 孩子 是 保姆 带大 的    你 的 孩子 不 是 保姆 带大 的   \n",
      "1  不 是 一个 区间 刷 学生证 不 能 有票  不 是 一个 区间 刷 学生证 无法确定 有票  不 是 一个 区间 刷 学生证 能 有票   \n",
      "2           拉   便 一定 是 胃癌         拉 黑 便 一定 无法确定 胃癌        拉 黑 便 一定 不 是     \n",
      "3    早上 空腹吃 芝士   饼 不 会 发胖   早上 空腹吃 芝士 威化 饼 无法确定 发胖    早上 空腹吃 芝士   饼 会 发胖   \n",
      "4       林 贝 儿 奶粉 无法确定   了         林 贝 儿 奶粉 通过 新政 了    林 贝 儿 奶粉 没 通过 新政 了   \n",
      "\n",
      "   answer  \n",
      "0       0  \n",
      "1       0  \n",
      "2       2  \n",
      "3       1  \n",
      "4       1  \n"
     ]
    }
   ],
   "source": [
    "train = pd.read_csv(train_path, sep='\\t', header=0)\n",
    "valid = pd.read_csv(valid_path, sep='\\t', header=0)\n",
    "test = pd.read_csv(test_path, sep='\\t', header=0)\n",
    "print (train.shape, valid.shape, test.shape)\n",
    "print (train.head())"
   ]
  },
  {
   "cell_type": "markdown",
   "metadata": {},
   "source": [
    "train_feature_p = np.load(train_feature_p_path)\n",
    "valid_feature_p = np.load(valid_feature_p_path)\n",
    "test_feature_p = np.load(test_feature_p_path)\n",
    "print (train_feature_p.shape, valid_feature_p.shape, test_feature_p.shape)\n",
    "train_feature_q = np.load(train_feature_q_path)\n",
    "valid_feature_q = np.load(valid_feature_q_path)\n",
    "test_feature_q = np.load(test_feature_q_path)\n",
    "print (train_feature_q.shape, valid_feature_q.shape, test_feature_q.shape)"
   ]
  },
  {
   "cell_type": "markdown",
   "metadata": {},
   "source": [
    "## Buld up the text input pipeline"
   ]
  },
  {
   "cell_type": "markdown",
   "metadata": {},
   "source": [
    "####  Fit the tokenizer on train, valid and test set"
   ]
  },
  {
   "cell_type": "code",
   "execution_count": 6,
   "metadata": {
    "collapsed": true
   },
   "outputs": [],
   "source": [
    "tokenizer = Tokenizer(num_words=max_features, lower=True) \n",
    "\n",
    "tokenizer.fit_on_texts(pd.concat([train['passage'], train['a0'], train['a1'], train['a2'], \n",
    "                                  valid['passage'], valid['a0'], valid['a1'], valid['a2'],\n",
    "                                  test['passage'], test['a0'], test['a1'], test['a2']], ignore_index=True))"
   ]
  },
  {
   "cell_type": "code",
   "execution_count": 7,
   "metadata": {},
   "outputs": [
    {
     "name": "stdout",
     "output_type": "stream",
     "text": [
      "1160000 167703\n"
     ]
    }
   ],
   "source": [
    "print (tokenizer.document_count, len(tokenizer.word_counts))"
   ]
  },
  {
   "cell_type": "markdown",
   "metadata": {},
   "source": [
    "#### text to seq"
   ]
  },
  {
   "cell_type": "code",
   "execution_count": 8,
   "metadata": {
    "collapsed": true
   },
   "outputs": [],
   "source": [
    "tra_p = tokenizer.texts_to_sequences(train['passage'])\n",
    "tra_0 = tokenizer.texts_to_sequences(train['a0'])\n",
    "tra_1 = tokenizer.texts_to_sequences(train['a1'])\n",
    "tra_2 = tokenizer.texts_to_sequences(train['a2'])\n",
    "val_p = tokenizer.texts_to_sequences(valid['passage'])\n",
    "val_0 = tokenizer.texts_to_sequences(valid['a0'])\n",
    "val_1 = tokenizer.texts_to_sequences(valid['a1'])\n",
    "val_2 = tokenizer.texts_to_sequences(valid['a2'])\n",
    "te_p = tokenizer.texts_to_sequences(test['passage'])\n",
    "te_0 = tokenizer.texts_to_sequences(test['a0'])\n",
    "te_1 = tokenizer.texts_to_sequences(test['a1'])\n",
    "te_2 = tokenizer.texts_to_sequences(test['a2'])"
   ]
  },
  {
   "cell_type": "markdown",
   "metadata": {},
   "source": [
    "#### pad seq to maxlen"
   ]
  },
  {
   "cell_type": "code",
   "execution_count": 9,
   "metadata": {
    "collapsed": true
   },
   "outputs": [],
   "source": [
    "train_p = pad_sequences(tra_p, maxlen=maxlen_p)\n",
    "train_0 = pad_sequences(tra_0, maxlen=maxlen_q)\n",
    "train_1 = pad_sequences(tra_1, maxlen=maxlen_q)\n",
    "train_2 = pad_sequences(tra_2, maxlen=maxlen_q)\n",
    "valid_p = pad_sequences(val_p, maxlen=maxlen_p)\n",
    "valid_0 = pad_sequences(val_0, maxlen=maxlen_q)\n",
    "valid_1 = pad_sequences(val_1, maxlen=maxlen_q)\n",
    "valid_2 = pad_sequences(val_2, maxlen=maxlen_q)\n",
    "test_p = pad_sequences(te_p, maxlen=maxlen_p)\n",
    "test_0 = pad_sequences(te_0, maxlen=maxlen_q)\n",
    "test_1 = pad_sequences(te_1, maxlen=maxlen_q)\n",
    "test_2 = pad_sequences(te_2, maxlen=maxlen_q)"
   ]
  },
  {
   "cell_type": "code",
   "execution_count": 10,
   "metadata": {},
   "outputs": [
    {
     "name": "stdout",
     "output_type": "stream",
     "text": [
      "(250000, 150) (250000, 15) (30000, 150) (30000, 15) (10000, 150) (10000, 15)\n"
     ]
    }
   ],
   "source": [
    "print (train_p.shape, train_0.shape, valid_p.shape, valid_1.shape, test_p.shape, test_2.shape)"
   ]
  },
  {
   "cell_type": "markdown",
   "metadata": {},
   "source": [
    "#### label"
   ]
  },
  {
   "cell_type": "code",
   "execution_count": 6,
   "metadata": {
    "collapsed": true
   },
   "outputs": [],
   "source": [
    "train_l = train['answer']\n",
    "train_l = to_categorical(train_l, num_classes=3)\n",
    "valid_l = valid['answer']\n",
    "valid_l = to_categorical(valid_l, num_classes=3)"
   ]
  },
  {
   "cell_type": "code",
   "execution_count": 12,
   "metadata": {},
   "outputs": [
    {
     "name": "stdout",
     "output_type": "stream",
     "text": [
      "(250000, 3) (30000, 3) [0. 1. 0.]\n"
     ]
    }
   ],
   "source": [
    "print (train_l.shape, valid_l.shape, train_l[79])"
   ]
  },
  {
   "cell_type": "markdown",
   "metadata": {},
   "source": [
    "## Prepare the pretrained word embedding"
   ]
  },
  {
   "cell_type": "code",
   "execution_count": null,
   "metadata": {
    "collapsed": true
   },
   "outputs": [],
   "source": [
    "def get_coefs(word,*arr): return word, np.asarray(arr, dtype='float32')\n",
    "fasttext_index = dict(get_coefs(*o.strip().split()) for o in open(fasttext_file, encoding='utf-8'))\n",
    "all_ft = np.hstack(fasttext_index.values())\n",
    "ft_mean,ft_std = all_ft.mean(), all_ft.std()\n",
    "word_index = tokenizer.word_index\n",
    "nb_words = min(max_features, len(word_index))\n",
    "fasttext_matrix = np.random.normal(ft_mean, ft_std, (nb_words+1, embed_size))\n",
    "for word, i in word_index.items():\n",
    "    if i > max_features: break\n",
    "    fasttext_vector = fasttext_index.get(word)\n",
    "    if fasttext_vector is not None: fasttext_matrix[i] = fasttext_vector\n",
    "fasttext_matrix = np.asarray(fasttext_matrix, dtype='float32')"
   ]
  },
  {
   "cell_type": "markdown",
   "metadata": {},
   "source": [
    "## Build the model"
   ]
  },
  {
   "cell_type": "code",
   "execution_count": null,
   "metadata": {
    "collapsed": true
   },
   "outputs": [],
   "source": [
    "K.clear_session()"
   ]
  },
  {
   "cell_type": "code",
   "execution_count": 21,
   "metadata": {
    "collapsed": true
   },
   "outputs": [],
   "source": [
    "def attention_flow (x):\n",
    "    h = x[0]\n",
    "    u = x[1]\n",
    "    #d = K.int_shape(h)[-1]\n",
    "    #arr = K.variable(d, dtype='float32')\n",
    "    #print (arr)\n",
    "    s = K.batch_dot(h, K.permute_dimensions(u, (0,2,1)), axes=[2,1])  # [t, j]\n",
    "    #print (s)\n",
    "    p2q = K.batch_dot(K.softmax(s, axis=-1), u, axes=[2,1]) # [t, 2d]\n",
    "    b = K.softmax(K.max(s, axis=-1, keepdims=True), -2) # [t, 1]\n",
    "    q2p = K.tile(K.batch_dot(K.permute_dimensions(h, (0,2,1)), b, axes=[2,1]), [1, 1, K.int_shape(h)[1]]) # [2d, t]\n",
    "    h_p2q = multiply([h, p2q]) # [t, 2d]\n",
    "    h_q2p = multiply([h, K.permute_dimensions(q2p, (0,2,1))]) # [t, 2d]\n",
    "    g = concatenate([h, p2q, h_p2q, h_q2p]) # [t, 8d]\n",
    "    '''\n",
    "    # self-attention\n",
    "    sg = K.batch_dot(g, K.permute_dimensions(g, (0,2,1)), axes=[2,1]) # [t, t]\n",
    "    g = K.batch_dot(K.softmax(sg, axis=-1), g, axes=[2,1]) # [t, 8d]\n",
    "    '''\n",
    "    return g"
   ]
  },
  {
   "cell_type": "code",
   "execution_count": 22,
   "metadata": {
    "collapsed": true
   },
   "outputs": [],
   "source": [
    "def cos_sim (x):\n",
    "    p = x[0] # [t, 2d]\n",
    "    q = x[1] # [j, 2d]\n",
    "    s = dot([p, K.permute_dimensions(q, (0,2,1))], axes=(2,1), normalize=True) # [t, j] cosine simlilarity\n",
    "    max_sim = K.max(s, axis=-1, keepdims=True) # [t, 1]\n",
    "    return max_sim"
   ]
  },
  {
   "cell_type": "code",
   "execution_count": 29,
   "metadata": {
    "collapsed": true
   },
   "outputs": [],
   "source": [
    "def single_model():\n",
    "    pa = Input(shape=(maxlen_p,))\n",
    "    a0 = Input(shape=(maxlen_q,))\n",
    "    a1 = Input(shape=(maxlen_q,))\n",
    "    a2 = Input(shape=(maxlen_q,))\n",
    "    \n",
    "    # base model\n",
    "    p = Input(shape=(maxlen_p,))\n",
    "    q = Input(shape=(maxlen_q,))\n",
    "    # Embedding layer\n",
    "    ft = Embedding(nb_words+1, embed_size, weights=[fasttext_matrix], trainable=False)\n",
    "    pft = ft(p)\n",
    "    qft = ft(q)\n",
    "    pft = SpatialDropout1D(0.2)(pft)\n",
    "    qft = SpatialDropout1D(0.2)(qft)\n",
    "    \n",
    "    # Contextual embedding layer\n",
    "    h = Bidirectional(CuDNNGRU(num_rnn_units, return_sequences=True))(pft) # [t, 2d]\n",
    "    u = Bidirectional(CuDNNGRU(num_rnn_units, return_sequences=True))(qft) # [j,2d]\n",
    "    \n",
    "    # Attention flow layer\n",
    "    g = Lambda(attention_flow)([h, u]) # [t, 8d]\n",
    "\n",
    "    # Modelling layer\n",
    "    m, hf, hb = Bidirectional(CuDNNGRU(num_rnn_units, return_sequences=True, return_state=True))(g) # [t, 2d], d, d\n",
    "    #m = Bidirectional(CuDNNLSTM(num_rnn_units, return_sequences=True))(m) # [t, 2d]\n",
    "    \n",
    "    um, uhf, uhb = Bidirectional(CuDNNGRU(num_rnn_units, return_sequences=True, return_state=True))(u) # [j,2d], d, d\n",
    "\n",
    "    # Output layer\n",
    "    conc = Concatenate()([g, m]) # [t, 10d]\n",
    "    gmp = GlobalMaxPooling1D()(conc) # [10d]\n",
    "    gap = GlobalAveragePooling1D()(conc) # [10d]\n",
    "    z1 = Concatenate()([gmp, gap, hf, hb]) # [22d]\n",
    "    \n",
    "    ugmp = GlobalMaxPooling1D()(um) # [4d]\n",
    "    ugap = GlobalAveragePooling1D()(um) # [4d]\n",
    "    z2 = Concatenate()([ugmp, ugap, uhf, uhb]) # [10d]\n",
    "\n",
    "    y = Concatenate()([z1, z2])\n",
    "    base_model = Model(inputs=[p, q], outputs=y)\n",
    "    \n",
    "    y0 = base_model()([pa, a0])\n",
    "    y1 = base_model()([pa, a1])\n",
    "    y2 = base_model()([pa, a2])\n",
    "    conc = Concatenate()([y0, y1, y2])\n",
    "    x = BatchNormalization()(conc)\n",
    "    x = Dense(num_hidden_units, activation='relu')(x)\n",
    "    x = Dropout(drop_prob)(x)\n",
    "    x = BatchNormalization()(x)\n",
    "    #x = Dense(num_hidden_units, activation='relu')(x)\n",
    "    #x = Dropout(drop_prob)(x)\n",
    "    #x = BatchNormalization()(x)\n",
    "\n",
    "    x = Dense(3, activation='softmax')(x)\n",
    "    model = Model(inputs=[pa, a0, a1, a2], outputs=x)\n",
    "    #print (model.summary())\n",
    "    return model"
   ]
  },
  {
   "cell_type": "markdown",
   "metadata": {},
   "source": [
    "## Train the model"
   ]
  },
  {
   "cell_type": "code",
   "execution_count": 30,
   "metadata": {
    "collapsed": true
   },
   "outputs": [],
   "source": [
    "model = single_model()"
   ]
  },
  {
   "cell_type": "code",
   "execution_count": 31,
   "metadata": {
    "collapsed": true
   },
   "outputs": [],
   "source": [
    "model.load_weights('./model/my9.h5')"
   ]
  },
  {
   "cell_type": "code",
   "execution_count": 32,
   "metadata": {},
   "outputs": [
    {
     "name": "stdout",
     "output_type": "stream",
     "text": [
      "Train on 750000 samples, validate on 90000 samples\n",
      "Epoch 1/4\n",
      "750000/750000 [==============================] - 699s 932us/step - loss: 0.3451 - binary_accuracy: 0.8462 - val_loss: 0.4012 - val_binary_accuracy: 0.8218\n",
      "Epoch 2/4\n",
      "750000/750000 [==============================] - 696s 928us/step - loss: 0.3053 - binary_accuracy: 0.8667 - val_loss: 0.4219 - val_binary_accuracy: 0.8215\n"
     ]
    }
   ],
   "source": [
    "adam = optimizers.Adam(lr=0.001, clipnorm=max_norm)\n",
    "model.compile(loss='categorical_crossentropy', optimizer=adam, metrics=['categorical_accuracy'])\n",
    "    \n",
    "# train the model\n",
    "cp = ModelCheckpoint(filepath='./model/my9.h5', monitor='val_categorical_accuracy', save_best_only=True, save_weights_only=True)\n",
    "es = EarlyStopping(patience=0,  monitor='val_categorical_accuracy')\n",
    "rp = ReduceLROnPlateau(patience = 1,  monitor='val_loss')\n",
    "hist = model.fit(\n",
    "    [train_p, train_0, train_1, train_2], \n",
    "    train_l,\n",
    "    batch_size = batch_size,\n",
    "    epochs = 4,\n",
    "    shuffle = False,\n",
    "    validation_data = ([valid_p, valid_0, valid_1, valid_2], valid_l), \n",
    "    callbacks=[rp, cp, es])"
   ]
  },
  {
   "cell_type": "code",
   "execution_count": null,
   "metadata": {
    "collapsed": true
   },
   "outputs": [],
   "source": [
    "print (hist.history)\n",
    "from matplotlib import pyplot as plt\n",
    "%matplotlib inline\n",
    "plt.figure(1)\n",
    "plt.plot (hist.history['binary_accuracy'])\n",
    "plt.plot (hist.history['val_binary_accuracy'])"
   ]
  },
  {
   "cell_type": "markdown",
   "metadata": {},
   "source": [
    "## load the best weight"
   ]
  },
  {
   "cell_type": "code",
   "execution_count": null,
   "metadata": {
    "collapsed": true
   },
   "outputs": [],
   "source": [
    "model.load_weights('./model/my9.h5')"
   ]
  },
  {
   "cell_type": "markdown",
   "metadata": {},
   "source": [
    "## predict the test data"
   ]
  },
  {
   "cell_type": "code",
   "execution_count": null,
   "metadata": {
    "collapsed": true
   },
   "outputs": [],
   "source": [
    "test_pred = model.predict([test_p, test_0, test_1, test_2], batch_size=batch_size*4)"
   ]
  },
  {
   "cell_type": "code",
   "execution_count": null,
   "metadata": {
    "collapsed": true
   },
   "outputs": [],
   "source": [
    "test_pred = np.squeeze(test_pred)\n",
    "print(test_pred.shape)"
   ]
  },
  {
   "cell_type": "markdown",
   "metadata": {},
   "source": [
    "## Write the array into csv file"
   ]
  },
  {
   "cell_type": "code",
   "execution_count": null,
   "metadata": {
    "collapsed": true
   },
   "outputs": [],
   "source": [
    "res = pd.DataFrame({'id':test['id'], 'passage':test['passage'], 'query':test['query'], 'option':test['option'], 'label':test_pred})\n",
    "res.to_csv('./result/test9_long.csv', index=False, encoding='utf-8_sig')"
   ]
  },
  {
   "cell_type": "markdown",
   "metadata": {},
   "source": [
    "## check validation prediction result"
   ]
  },
  {
   "cell_type": "markdown",
   "metadata": {},
   "source": [
    "val_pred = model.predict([valid_p, valid_q, valid_feature], batch_size=batch_size*4)\n",
    "val_pred = np.squeeze(val_pred)\n",
    "res = pd.DataFrame({'id':valid['id'], 'passage':valid['passage'], 'query':valid['query'], 'option':valid['option'], 'label':val_pred})\n",
    "res.to_csv('./result/valid17_long.csv', index=False, encoding='utf-8_sig')"
   ]
  },
  {
   "cell_type": "code",
   "execution_count": null,
   "metadata": {
    "collapsed": true
   },
   "outputs": [],
   "source": []
  }
 ],
 "metadata": {
  "kernelspec": {
   "display_name": "Python 3",
   "language": "python",
   "name": "python3"
  },
  "language_info": {
   "codemirror_mode": {
    "name": "ipython",
    "version": 3
   },
   "file_extension": ".py",
   "mimetype": "text/x-python",
   "name": "python",
   "nbconvert_exporter": "python",
   "pygments_lexer": "ipython3",
   "version": "3.6.2"
  }
 },
 "nbformat": 4,
 "nbformat_minor": 2
}
